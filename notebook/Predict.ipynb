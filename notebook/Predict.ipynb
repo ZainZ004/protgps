{
 "cells": [
  {
   "cell_type": "code",
   "execution_count": 1,
   "metadata": {},
   "outputs": [],
   "source": [
    "PROTGPS_PARENT_DIR = \"/home/protgps\" # point to the protgps local repo"
   ]
  },
  {
   "cell_type": "code",
   "execution_count": null,
   "metadata": {},
   "outputs": [],
   "source": [
    "import sys\n",
    "import os\n",
    "sys.path.append(PROTGPS_PARENT_DIR) # append the path of protgps\n",
    "from argparse import Namespace\n",
    "import pickle\n",
    "from tqdm import tqdm\n",
    "import pandas as pd\n",
    "import torch \n",
    "from protgps.utils.loading import get_object"
   ]
  },
  {
   "cell_type": "code",
   "execution_count": null,
   "metadata": {},
   "outputs": [],
   "source": [
    "device = torch.device(\"cuda:0\" if torch.cuda.is_available() else \"cpu\")"
   ]
  },
  {
   "cell_type": "code",
   "execution_count": null,
   "metadata": {},
   "outputs": [],
   "source": [
    "COMPARTMENT_CLASSES = [\n",
    "    \"nuclear_speckle\",\n",
    "    \"p-body\",\n",
    "    \"pml-bdoy\",\n",
    "    \"post_synaptic_density\",\n",
    "    \"stress_granule\",\n",
    "    \"chromosome\",\n",
    "    \"nucleolus\",\n",
    "    \"nuclear_pore_complex\",\n",
    "    \"cajal_body\",\n",
    "    \"rna_granule\",\n",
    "    \"cell_junction\",\n",
    "    \"transcriptional\"\n",
    "]\n",
    "\n",
    "def load_model(snargs):\n",
    "    \"\"\"\n",
    "    Loads classifier model from args file\n",
    "    \"\"\"\n",
    "    modelpath = snargs.model_path\n",
    "    model = get_object(snargs.lightning_name, \"lightning\")(snargs)\n",
    "    model = model.load_from_checkpoint(\n",
    "        checkpoint_path = modelpath,\n",
    "        strict=not snargs.relax_checkpoint_matching,\n",
    "        **{\"args\": snargs},\n",
    "    )\n",
    "    return model\n",
    "\n",
    "@torch.no_grad()\n",
    "def predict_condensates(model, sequences, batch_size=1, round=True):\n",
    "    scores = []\n",
    "    for i in tqdm(range(0, len(sequences), batch_size), ncols=100):\n",
    "        batch = sequences[ i : (i + batch_size)]\n",
    "        out = model.model({\"x\": batch})    \n",
    "        s = torch.sigmoid(out['logit']).to(\"cpu\")\n",
    "        scores.append(s)\n",
    "    scores = torch.vstack(scores)\n",
    "    if round:\n",
    "        scores = torch.round(scores, decimals=3)\n",
    "    return scores"
   ]
  },
  {
   "cell_type": "code",
   "execution_count": null,
   "metadata": {},
   "outputs": [],
   "source": [
    "args = Namespace(**pickle.load(open(os.path.join(PROTGPS_PARENT_DIR, 'checkpoints/protgps/32bf44b16a4e770a674896b81dfb3729.args'),'rb'))) # assumes args file has been extracted in checkpoints/protgps\n",
    "args.model_path = os.path.join(PROTGPS_PARENT_DIR, 'checkpoints/protgps/32bf44b16a4e770a674896b81dfb3729epoch=26.ckpt') # assumes checkpoint has been extracted in checkpoints/protgps\n",
    "args.pretrained_hub_dir = \"/home/protgps/esm_models/esm2\" # should point to folder with ESM2 facebookresearch_esm_main directory\n",
    "model = load_model(args)\n",
    "model.eval()\n",
    "model = model.to(device)"
   ]
  },
  {
   "cell_type": "code",
   "execution_count": 3,
   "metadata": {},
   "outputs": [],
   "source": [
    "sequences = [\n",
    "    # UniProt O15116\n",
    "    \"MNYMPGTASLIEDIDKKHLVLLRDGRTLIGFLRSIDQFANLVLHQTVERIHVGKKYGDIPRGIFVVRGENVVLLGEIDLEKESDTPLQQVSIEEILEEQRVEQQTKLEAEKLKVQALKDRGLSIPRADTLDEY\", \n",
    "    # Uniprot P38432\n",
    "    \"MAASETVRLRLQFDYPPPATPHCTAFWLLVDLNRCRVVTDLISLIRQRFGFSSGAFLGLYLEGGLLPPAESARLVRDNDCLRVKLEERGVAENSVVISNGDINLSLRKAKKRAFQLEEGEETEPDCKYSKKHWKSRENNNNNEKVLDLEPKAVTDQTVSKKNKRKNKATCGTVGDDNEEAKRKSPKKKEKCEYKKKAKNPKSPKVQAVKDWANQRCSSPKGSARNSLVKAKRKGSVSVCSKESPSSSSESESCDESISDGPSKVTLEARNSSEKLPTELSKEEPSTKNTTADKLAIKLGFSLTPSKGKTSGTTSSSSDSSAESDDQCLMSSSTPECAAGFLKTVGLFAGRGRPGPGLSSQTAGAAGWRRSGSNGGGQAPGASPSVSLPASLGRGWGREENLFSWKGAKGRGMRGRGRGRGHPVSCVVNRSTDNQRQQQLNDVVKNSSTIIQNPVETPKKDYSLLPLLAAAPQVGEKIAFKLLELTSSYSPDVSDYKEGRILSHNPETQQVDIEILSSLPALREPGKFDLVYHNENGAEVVEYAVTQESKITVFWKELIDPRLIIESPSNTSSTEPA\" \n",
    "]"
   ]
  },
  {
   "cell_type": "code",
   "execution_count": null,
   "metadata": {},
   "outputs": [],
   "source": [
    "scores = predict_condensates(model, sequences, batch_size=1)"
   ]
  },
  {
   "cell_type": "code",
   "execution_count": null,
   "metadata": {},
   "outputs": [],
   "source": [
    "data = {\"sequences\": sequences}\n",
    "for j,condensate in enumerate(COMPARTMENT_CLASSES):\n",
    "    data[f\"{condensate.upper()}_Score\"] = scores[:, j].tolist()"
   ]
  },
  {
   "cell_type": "code",
   "execution_count": null,
   "metadata": {},
   "outputs": [],
   "source": [
    "pd.DataFrame(data)"
   ]
  }
 ],
 "metadata": {
  "kernelspec": {
   "display_name": "protgps",
   "language": "python",
   "name": "protgps"
  },
  "language_info": {
   "codemirror_mode": {
    "name": "ipython",
    "version": 3
   },
   "file_extension": ".py",
   "mimetype": "text/x-python",
   "name": "python",
   "nbconvert_exporter": "python",
   "pygments_lexer": "ipython3",
   "version": "3.10.15"
  }
 },
 "nbformat": 4,
 "nbformat_minor": 4
}
